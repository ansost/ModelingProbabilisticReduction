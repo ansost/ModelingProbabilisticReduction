{
 "cells": [
  {
   "cell_type": "code",
   "execution_count": null,
   "metadata": {},
   "outputs": [],
   "source": [
    "import os\n",
    "import re\n",
    "import gzip\n",
    "import shutil\n",
    "import pandas as pd"
   ]
  },
  {
   "cell_type": "code",
   "execution_count": null,
   "metadata": {
    "collapsed": true
   },
   "outputs": [],
   "source": [
    "## Test if index column needs to be removed\n",
    "\n",
    "df1 = pd.read_csv(\n",
    "    \"/gpfs/project/anste145/input_files/buckeye_data/updated_eventfiles/s01.tsv\",\n",
    "    low_memory=True,\n",
    "    dtype=({\"outcomes\": \"category\"}),\n",
    "    engine=\"c\",\n",
    "    sep=\"\\t\",\n",
    ")\n",
    "df1\n",
    "df1.drop(columns=\"Unnamed: 0\")\n",
    "# --> it does"
   ]
  },
  {
   "cell_type": "code",
   "execution_count": null,
   "metadata": {
    "collapsed": true
   },
   "outputs": [],
   "source": [
    "## Fix event files by making them actuall tsv and removing the index column.\n",
    "\n",
    "path = \"/gpfs/project/anste145/input_files/buckeye_data/updated_eventfiles/\"\n",
    "all_ = []\n",
    "\n",
    "for file in os.listdir(path):\n",
    "    df = pd.read_csv(\n",
    "        path + file,\n",
    "        low_memory=True,\n",
    "        dtype=({\"outcomes\": \"category\"}),\n",
    "        engine=\"c\",\n",
    "        sep=\"\\t\",\n",
    "    )\n",
    "    df = df.drop(columns=\"Unnamed: 0\")\n",
    "    df.to_csv(\n",
    "        \"/gpfs/project/anste145/input_files/buckeye_data/updated_eventfiles/\" + file,\n",
    "        sep=\"\\t\",\n",
    "        index=False,\n",
    "    )"
   ]
  },
  {
   "cell_type": "code",
   "execution_count": null,
   "metadata": {},
   "outputs": [],
   "source": [
    "## Merging the individual files again.\n",
    "\n",
    "path = \"/gpfs/project/anste145/input_files/buckeye_data/updated_eventfiles/\"\n",
    "all_ = []\n",
    "\n",
    "for file in os.listdir(path):\n",
    "    df = pd.read_csv(\n",
    "        path + file,\n",
    "        low_memory=True,\n",
    "        dtype=({\"outcomes\": \"category\"}),\n",
    "        engine=\"c\",\n",
    "        sep=\"\\t\",\n",
    "    )\n",
    "    all_.append(df)\n",
    "\n",
    "big_df = pd.concat(all_)\n",
    "concat_w = big_df[\"outcomes\"].tolist()"
   ]
  },
  {
   "cell_type": "code",
   "execution_count": null,
   "metadata": {},
   "outputs": [],
   "source": [
    "## Testing if any words are missing.\n",
    "\n",
    "regression_words = pd.read_csv(\n",
    "    \"/gpfs/project/anste145/input_files/buckeye_data/regression_data.csv\",\n",
    "    usecols=[\"wordID\"],\n",
    "    dtype=({\"wordID\": \"category\"}),\n",
    "    engine=\"c\",\n",
    "    low_memory=True,\n",
    ")\n",
    "regr_w = regression_words[\"wordID\"].tolist()\n",
    "missing = [w for w in regr_w if w not in concat_w]\n",
    "len(missing)\n",
    "# --> No words are missing."
   ]
  },
  {
   "cell_type": "code",
   "execution_count": null,
   "metadata": {},
   "outputs": [],
   "source": [
    "## Writing final event file to file and creating a gzipped version for running the NDL model.\n",
    "\n",
    "big_df.to_csv(\n",
    "    \"/gpfs/project/anste145/input_files/buckeye_data/final_eventfile_buckeye.tsv\",\n",
    "    sep=\"\\t\",\n",
    "    index=False,\n",
    ")\n",
    "\n",
    "with open(\n",
    "    \"/gpfs/project/anste145/input_files/buckeye_data/final_eventfile_buckeye.tsv\", \"rb\"\n",
    ") as f:\n",
    "    with gzip.open(\n",
    "        \"/gpfs/project/anste145/input_files/buckeye_data/final_eventfile_buckeye.gz\",\n",
    "        \"wb\",\n",
    "    ) as output:\n",
    "        shutil.copyfileobj(f, output)"
   ]
  }
 ],
 "metadata": {
  "kernelspec": {
   "display_name": "Python 3 (ipykernel)",
   "language": "python",
   "name": "python3"
  },
  "language_info": {
   "codemirror_mode": {
    "name": "ipython",
    "version": 3
   },
   "file_extension": ".py",
   "mimetype": "text/x-python",
   "name": "python",
   "nbconvert_exporter": "python",
   "pygments_lexer": "ipython3",
   "version": "3.8.10"
  }
 },
 "nbformat": 4,
 "nbformat_minor": 2
}
