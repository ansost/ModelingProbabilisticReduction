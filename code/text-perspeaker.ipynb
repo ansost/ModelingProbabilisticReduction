{
 "cells": [
  {
   "cell_type": "code",
   "execution_count": 1,
   "id": "e4af33f6",
   "metadata": {},
   "outputs": [],
   "source": [
    "import buckeye\n",
    "import pandas as pd"
   ]
  },
  {
   "cell_type": "code",
   "execution_count": 15,
   "id": "60baacb1",
   "metadata": {},
   "outputs": [],
   "source": [
    "corpus = buckeye.corpus()\n",
    "forbidden_words = [\n",
    "    \"uh\",\n",
    "    \"ah\",\n",
    "    \"um\",\n",
    "    \"mm\",\n",
    "    \"hm\",\n",
    "    \"huh\",\n",
    "    \"uh-huh\",\n",
    "    \"um-hum\",\n",
    "    \"huh-uh\",\n",
    "    \"hum-hum\",\n",
    "    \"hmm\",\n",
    "    \"hmmm\",\n",
    "    \"mh\",\n",
    "    \"mmh\",\n",
    "    \"oh\",\n",
    "]\n",
    "\n",
    "# There are 40 speaker in total.\n",
    "for speaker in corpus:\n",
    "    df = pd.DataFrame({\"speaker\": [], \"token\": [], \"token_duration\": []})\n",
    "    words = []\n",
    "    # Each speaker has up to 6 tracks.\n",
    "    for track in speaker:\n",
    "        for word in track.words:\n",
    "            # Catches both pauses and pauses that revieced the word class\n",
    "            if (\n",
    "                isinstance(word, buckeye.containers.Word)\n",
    "                and word.orthography not in forbidden_words\n",
    "            ):\n",
    "                df.loc[len(df)] = {\n",
    "                    \"speaker\": speaker.name,\n",
    "                    \"token\": word.orthography,\n",
    "                    \"token_duration\": word.dur,\n",
    "                }\n",
    "\n",
    "    df.to_csv(\"../data/allwords_perspeaker_csv/\" + str(speaker.name) + \".csv\")\n",
    "    break"
   ]
  }
 ],
 "metadata": {
  "kernelspec": {
   "display_name": "Python 3 (ipykernel)",
   "language": "python",
   "name": "python3"
  },
  "language_info": {
   "codemirror_mode": {
    "name": "ipython",
    "version": 3
   },
   "file_extension": ".py",
   "mimetype": "text/x-python",
   "name": "python",
   "nbconvert_exporter": "python",
   "pygments_lexer": "ipython3",
   "version": "3.8.10"
  }
 },
 "nbformat": 4,
 "nbformat_minor": 5
}
