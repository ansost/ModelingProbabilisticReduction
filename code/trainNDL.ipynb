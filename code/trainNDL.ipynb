{
 "cells": [
  {
   "cell_type": "code",
   "execution_count": null,
   "id": "3dd5daf3",
   "metadata": {},
   "outputs": [],
   "source": [
    "from pyndl import ndl"
   ]
  },
  {
   "cell_type": "markdown",
   "id": "e5d58405",
   "metadata": {},
   "source": [
    "### Train the model"
   ]
  },
  {
   "cell_type": "code",
   "execution_count": null,
   "id": "772cce13",
   "metadata": {},
   "outputs": [],
   "source": [
    "weights = ndl.ndl(\n",
    "    events=\"../data/final_eventfile_buckeye.gz\",\n",
    "    alpha=0.1,\n",
    "    betas=(0.1, 0.1),\n",
    "    lambda_=1.0,\n",
    "    method=\"openmp\",\n",
    "    remove_duplicates=True,\n",
    "    verbose=True,\n",
    ")\n",
    "\n",
    "weights.to_netcdf(\"../data/weights_buckeye.nc\")"
   ]
  }
 ],
 "metadata": {
  "kernelspec": {
   "display_name": "Python 3 (ipykernel)",
   "language": "python",
   "name": "python3"
  },
  "language_info": {
   "codemirror_mode": {
    "name": "ipython",
    "version": 3
   },
   "file_extension": ".py",
   "mimetype": "text/x-python",
   "name": "python",
   "nbconvert_exporter": "python",
   "pygments_lexer": "ipython3",
   "version": "3.8.10"
  }
 },
 "nbformat": 4,
 "nbformat_minor": 5
}
